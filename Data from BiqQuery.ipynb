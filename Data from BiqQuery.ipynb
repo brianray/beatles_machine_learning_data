{
 "cells": [
  {
   "cell_type": "code",
   "execution_count": 1,
   "metadata": {},
   "outputs": [],
   "source": [
    "%%bigquery artists_df\n",
    "SELECT      artist_name\n",
    "    FROM     `listenbrainz.listenbrainz.listen`\n",
    "    GROUP BY artist_name\n",
    "    ORDER BY COUNT(*) DESC\n",
    "    LIMIT   300;"
   ]
  },
  {
   "cell_type": "code",
   "execution_count": 2,
   "metadata": {},
   "outputs": [],
   "source": [
    "%%bigquery play_counts_df\n",
    "\n",
    "SELECT user_name, artist_name, count(*) as cnt from `listenbrainz.listenbrainz.listen` WHERE artist_name IN (\n",
    "    SELECT      artist_name\n",
    "    FROM     `listenbrainz.listenbrainz.listen`\n",
    "    GROUP BY artist_name\n",
    "    ORDER BY COUNT(*) DESC\n",
    "    LIMIT   300) GROUP BY user_name, artist_name;"
   ]
  },
  {
   "cell_type": "code",
   "execution_count": 4,
   "metadata": {},
   "outputs": [],
   "source": [
    "artists_df.to_feather(\"artist_df.feather\")"
   ]
  },
  {
   "cell_type": "code",
   "execution_count": 5,
   "metadata": {},
   "outputs": [],
   "source": [
    "play_counts_df.to_feather(\"play_counts_df.feather\")"
   ]
  },
  {
   "cell_type": "code",
   "execution_count": null,
   "metadata": {},
   "outputs": [],
   "source": []
  }
 ],
 "metadata": {
  "kernelspec": {
   "display_name": "Python 3",
   "language": "python",
   "name": "python3"
  },
  "language_info": {
   "codemirror_mode": {
    "name": "ipython",
    "version": 3
   },
   "file_extension": ".py",
   "mimetype": "text/x-python",
   "name": "python",
   "nbconvert_exporter": "python",
   "pygments_lexer": "ipython3",
   "version": "3.5.3"
  }
 },
 "nbformat": 4,
 "nbformat_minor": 4
}
