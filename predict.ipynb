{
 "cells": [
  {
   "cell_type": "code",
   "execution_count": 29,
   "metadata": {},
   "outputs": [],
   "source": [
    "import json\n",
    "from google.cloud import automl_v1beta1 as automl"
   ]
  },
  {
   "cell_type": "code",
   "execution_count": 30,
   "metadata": {},
   "outputs": [],
   "source": [
    "# to regenrate test file\n",
    "\n",
    "# import pandas as pd\n",
    "# df = pd.read_csv(\"file_out_2495_tags.csv\")\n",
    "# with open(\"test_record.txt\", \"w\") as f:\n",
    "#     for col in df.columns:\n",
    "#         f.write(\"# {}: {}\\n\".format(col, df.loc[0, col]))\n",
    "\n",
    "def clean(x):\n",
    "    x = x.strip()\n",
    "    if x == \"nan\":\n",
    "        return None\n",
    "    try:\n",
    "        return float(x)\n",
    "    except:\n",
    "        return x\n",
    "\n",
    "test_record = [x.split(':') for x in open('test_record.txt').read().strip().split('\\n')]\n",
    "inputs = [clean(x[1]) for x in test_record]"
   ]
  },
  {
   "cell_type": "code",
   "execution_count": 31,
   "metadata": {},
   "outputs": [
    {
     "ename": "ValueError",
     "evalue": "Dimension mismatch, the number of provided inputs (301) does not match that of the model (517)",
     "output_type": "error",
     "traceback": [
      "\u001b[0;31m---------------------------------------------------------------------------\u001b[0m",
      "\u001b[0;31mValueError\u001b[0m                                Traceback (most recent call last)",
      "\u001b[0;32m<ipython-input-31-9004d1059b7a>\u001b[0m in \u001b[0;36m<module>\u001b[0;34m\u001b[0m\n\u001b[1;32m      8\u001b[0m response = client.predict(\n\u001b[1;32m      9\u001b[0m     \u001b[0mmodel_display_name\u001b[0m\u001b[0;34m=\u001b[0m\u001b[0mmodel_display_name\u001b[0m\u001b[0;34m,\u001b[0m\u001b[0;34m\u001b[0m\u001b[0m\n\u001b[0;32m---> 10\u001b[0;31m     inputs=inputs)\n\u001b[0m\u001b[1;32m     11\u001b[0m \u001b[0mresponse\u001b[0m\u001b[0;34m\u001b[0m\u001b[0m\n",
      "\u001b[0;32m~/.local/lib/python3.5/site-packages/google/cloud/automl_v1beta1/tables/tables_client.py\u001b[0m in \u001b[0;36mpredict\u001b[0;34m(self, inputs, model, model_name, model_display_name, project, region, **kwargs)\u001b[0m\n\u001b[1;32m   2664\u001b[0m                     \u001b[0;34m\"inputs ({}) does not match that of the model \"\u001b[0m\u001b[0;34m\u001b[0m\u001b[0m\n\u001b[1;32m   2665\u001b[0m                     \u001b[0;34m\"({})\"\u001b[0m\u001b[0;34m\u001b[0m\u001b[0m\n\u001b[0;32m-> 2666\u001b[0;31m                 ).format(len(inputs), len(column_specs))\n\u001b[0m\u001b[1;32m   2667\u001b[0m             )\n\u001b[1;32m   2668\u001b[0m \u001b[0;34m\u001b[0m\u001b[0m\n",
      "\u001b[0;31mValueError\u001b[0m: Dimension mismatch, the number of provided inputs (301) does not match that of the model (517)"
     ]
    }
   ],
   "source": [
    "project_id = 'mwpmltr'\n",
    "compute_region = 'us-central1'\n",
    "model_display_name = 'beatles_machine_l_20191103043201'\n",
    "\n",
    "\n",
    "client = automl.TablesClient(project=project_id, region=compute_region)\n",
    "\n",
    "response = client.predict(\n",
    "    model_display_name=model_display_name,\n",
    "    inputs=inputs)\n",
    "response"
   ]
  },
  {
   "cell_type": "code",
   "execution_count": null,
   "metadata": {},
   "outputs": [],
   "source": []
  },
  {
   "cell_type": "code",
   "execution_count": null,
   "metadata": {},
   "outputs": [],
   "source": []
  }
 ],
 "metadata": {
  "kernelspec": {
   "display_name": "Python 3",
   "language": "python",
   "name": "python3"
  },
  "language_info": {
   "codemirror_mode": {
    "name": "ipython",
    "version": 3
   },
   "file_extension": ".py",
   "mimetype": "text/x-python",
   "name": "python",
   "nbconvert_exporter": "python",
   "pygments_lexer": "ipython3",
   "version": "3.5.3"
  }
 },
 "nbformat": 4,
 "nbformat_minor": 4
}
